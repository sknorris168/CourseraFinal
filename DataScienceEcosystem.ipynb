{
 "cells": [
  {
   "cell_type": "markdown",
   "id": "016c105f-5e07-4845-97bd-7620ab393ab0",
   "metadata": {},
   "source": [
    "<h1>Data Science Tools and Ecosystem <H1>"
   ]
  },
  {
   "cell_type": "markdown",
   "id": "88016502-0d81-48c1-9add-6d7d496e8f8c",
   "metadata": {},
   "source": [
    "In this notebook, Data Science Tools and Ecosystem are summarized."
   ]
  },
  {
   "cell_type": "markdown",
   "id": "87c6f38d-c540-45be-bf28-0774a5375958",
   "metadata": {},
   "source": [
    "Some of the popular languages that Data Scientists use are:\n",
    "\n",
    "1. Python\n",
    "2. R\n",
    "3. Julia\n",
    "4. Java\n",
    "5. SQL"
   ]
  },
  {
   "cell_type": "markdown",
   "id": "2ee67a12-4d50-4ce8-974c-3036e115aa74",
   "metadata": {},
   "source": [
    "Some of the commonly used libraries used by Data Scientists include:\n",
    "\n",
    "1. Matplotlib\n",
    "2. Sckit-Learn\n",
    "3. TensorFlow\n",
    "4. Pytorch"
   ]
  },
  {
   "cell_type": "markdown",
   "id": "b11133a6-632b-4be3-aaf9-f8e57639bb99",
   "metadata": {},
   "source": [
    "|Data Science Tools|\n",
    "|------------------|\n",
    "|Matplotlib|\n",
    "|Apache Spark|\n",
    "|Numpy|"
   ]
  },
  {
   "cell_type": "markdown",
   "id": "5808a2a2-f1dc-4bf3-a0a5-0b7a2aa49101",
   "metadata": {},
   "source": [
    "<H3>Below are a few examples of evaluating arithmetic expressions in Python<H3>"
   ]
  },
  {
   "cell_type": "code",
   "execution_count": 10,
   "id": "d6d334c9-27a1-495e-a1d6-800588883aaa",
   "metadata": {},
   "outputs": [
    {
     "data": {
      "text/plain": [
       "17"
      ]
     },
     "execution_count": 10,
     "metadata": {},
     "output_type": "execute_result"
    }
   ],
   "source": [
    "#This is a simple arithmetic expression to multiply then add integers\n",
    "(3*4) + 5"
   ]
  },
  {
   "cell_type": "code",
   "execution_count": 11,
   "id": "c8c1c524-5157-4f4d-9221-a12d55627df1",
   "metadata": {
    "scrolled": true
   },
   "outputs": [
    {
     "data": {
      "text/plain": [
       "3.3333333333333335"
      ]
     },
     "execution_count": 11,
     "metadata": {},
     "output_type": "execute_result"
    }
   ],
   "source": [
    "#This will convert 200 minutes to hours by diving by 60\n",
    "200/60"
   ]
  },
  {
   "cell_type": "markdown",
   "id": "b39fa270-9c23-4c47-9f05-53195165d06b",
   "metadata": {},
   "source": [
    "<H3>Below are a few examples of evaluation arithmetic expression in Python<H3>"
   ]
  },
  {
   "cell_type": "markdown",
   "id": "84d2012c-ad8e-43bc-9027-248c83dd0ee5",
   "metadata": {},
   "source": [
    "In this notebook, Data Science Tools and Ecosystem are summarized.\n",
    "Objectives:\n",
    "* Python\n",
    "* R\n",
    "* Julia\n",
    "* Java\n",
    "* SQL"
   ]
  },
  {
   "cell_type": "markdown",
   "id": "01a784fc-f775-4405-8dfc-75541373cabd",
   "metadata": {},
   "source": [
    "<H2>Author<H2>\n"
   ]
  },
  {
   "cell_type": "markdown",
   "id": "0b565e5f-3047-486a-918d-d573e8ec2980",
   "metadata": {},
   "source": [
    "Suki Norris"
   ]
  },
  {
   "cell_type": "code",
   "execution_count": null,
   "id": "81fba464-c940-407e-a9e2-90b6dec17a51",
   "metadata": {},
   "outputs": [],
   "source": []
  }
 ],
 "metadata": {
  "kernelspec": {
   "display_name": "Python 3 (ipykernel)",
   "language": "python",
   "name": "python3"
  },
  "language_info": {
   "codemirror_mode": {
    "name": "ipython",
    "version": 3
   },
   "file_extension": ".py",
   "mimetype": "text/x-python",
   "name": "python",
   "nbconvert_exporter": "python",
   "pygments_lexer": "ipython3",
   "version": "3.12.4"
  }
 },
 "nbformat": 4,
 "nbformat_minor": 5
}
